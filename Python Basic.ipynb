{
 "cells": [
  {
   "cell_type": "code",
   "execution_count": 1,
   "metadata": {},
   "outputs": [
    {
     "data": {
      "text/plain": [
       "' python basic from w3schools.com, \\n    created by paulgourab399. '"
      ]
     },
     "execution_count": 1,
     "metadata": {},
     "output_type": "execute_result"
    }
   ],
   "source": [
    "\"\"\" python basic from w3schools.com, \n",
    "    created by paulgourab399. \"\"\""
   ]
  },
  {
   "cell_type": "code",
   "execution_count": 2,
   "metadata": {},
   "outputs": [
    {
     "name": "stdout",
     "output_type": "stream",
     "text": [
      "Hello, World!\n"
     ]
    }
   ],
   "source": [
    "\"\"\" python used for, \n",
    "    web development (server-side),\n",
    "    software development,\n",
    "    mathematics,\n",
    "    system scripting. \n",
    "    Python can do many things, like-\n",
    "        It can be used on a server to create web applications.\n",
    "        It can be used alongside software to create workflows.\n",
    "        It can connect to database systems. It can also read and modify files.\n",
    "        It can be used to handle big data and perform complex mathematics.\n",
    "        It can be used for rapid prototyping, or for production-ready software development.\n",
    "     \"\"\"\n",
    "# first python program\n",
    "\n",
    "print(\"Hello, World!\")"
   ]
  },
  {
   "cell_type": "code",
   "execution_count": 3,
   "metadata": {},
   "outputs": [
    {
     "name": "stdout",
     "output_type": "stream",
     "text": [
      "Four is greater than two!\n",
      "Good luck!\n"
     ]
    }
   ],
   "source": [
    "\"\"\" Identation: Python use identation to indicate a block of code. If we miss the identation, python will give the error. \n",
    "    The number of space is up to us as but it has to be at least one. We have to use same number of code of same block, \n",
    "    otherwise python will give us a error.\"\"\"\n",
    "# python identation\n",
    "\n",
    "if 4>2:\n",
    "    print(\"Four is greater than two!\")\n",
    "    print(\"Good luck!\")"
   ]
  },
  {
   "cell_type": "code",
   "execution_count": 7,
   "metadata": {},
   "outputs": [
    {
     "name": "stdout",
     "output_type": "stream",
     "text": [
      "10\n"
     ]
    }
   ],
   "source": [
    "\"\"\" Python variables:\n",
    "        Unlike other language, in python a variable is create when we a assign value to it. Python has no command for declaring\n",
    "        variable. \n",
    "    Python comment: Python comment start with a hashtag and a tripple quotes.\"\"\"\n",
    "# This is comment\n",
    "# python variable\n",
    "var=10\n",
    "print(var)"
   ]
  },
  {
   "cell_type": "code",
   "execution_count": 8,
   "metadata": {},
   "outputs": [
    {
     "name": "stdout",
     "output_type": "stream",
     "text": [
      "I am bad at programming.\n",
      "I am learning Python.\n",
      "21\n",
      "<class 'str'>\n"
     ]
    }
   ],
   "source": [
    "\"\"\" Python variable:\n",
    "        variable donot need to be particuler type. Type can be set after declaring the variable.\n",
    "        Casting:\n",
    "            Casting can be done by setting up data type to the variable. \"\"\"\n",
    "        # type() method can get the data type of the variable\n",
    "        # string variable can be declar using either double or single quote\n",
    "        # python variable are case-sensitive\n",
    "var=\"I am bad at programming.\"\n",
    "Var=\"I am learning Python.\"\n",
    "num=int(21)\n",
    "print(var)\n",
    "print(Var)\n",
    "print(num)\n",
    "print(type(var))"
   ]
  },
  {
   "cell_type": "code",
   "execution_count": 12,
   "metadata": {},
   "outputs": [
    {
     "name": "stdout",
     "output_type": "stream",
     "text": [
      "1\n",
      "2\n",
      "3\n",
      "10\n",
      "10\n",
      "10\n",
      "10\n",
      "20\n",
      "30\n"
     ]
    }
   ],
   "source": [
    "\"\"\" Python variable:\n",
    "        python variable name syntax: \n",
    "            A variable can have a short name (like x and y) or a more descriptive name (age, carname, total_volume). Rules for Python variables:\n",
    "            A variable name must start with a letter or the underscore character\n",
    "            A variable name cannot start with a number\n",
    "            A variable name can only contain alpha-numeric characters and underscores (A-z, 0-9, and _ )\n",
    "            Variable names are case-sensitive (age, Age and AGE are three different variables)\n",
    "            Multiword variable name: \n",
    "                Variable name done with one word can be difficult to understand. So, we can use multiple word to declaring a\n",
    "                variable. There are many techiques. Like, Pascal case, Camel case, Snake case. \"\"\"\n",
    "# python legal variable name\n",
    "myvar = \"John\"\n",
    "my_var = \"John\"\n",
    "_my_var = \"John\"\n",
    "myVar = \"John\"\n",
    "MYVAR = \"John\"\n",
    "myvar2 = \"John\"\n",
    "\n",
    "# Camel case: each word except first start with capital letter\n",
    "myVariableName=\"Camel case\"\n",
    "# Pascal case: each word start with a capital letter\n",
    "MyNameVariable=\"Pascal case\"\n",
    "# Snake case: each word seperated by underscore charecter\n",
    "my_variable_name=\"Snake case\"\n",
    "\n",
    "# assign multiple values\n",
    "x, y, z = 1,2,3\n",
    "print(x)\n",
    "print(y)\n",
    "print(z)\n",
    "\n",
    "# one values to multiple variable\n",
    "x=y=z=10\n",
    "print(x)\n",
    "print(y)\n",
    "print(z)\n",
    "\n",
    "# unpack a collection: if If we have a collection of values in a list, tuple etc. \n",
    "# Python allows us extract the values into variables. \n",
    "# This is called unpacking.\n",
    "number = [10,20,30]\n",
    "x,y,z = number\n",
    "print(x)\n",
    "print(y)\n",
    "print(z)\n"
   ]
  },
  {
   "cell_type": "code",
   "execution_count": 14,
   "metadata": {},
   "outputs": [
    {
     "name": "stdout",
     "output_type": "stream",
     "text": [
      "Python is good\n"
     ]
    }
   ],
   "source": [
    "\"\"\" Output variables:\n",
    "        python print function use to output the variables. \"\"\"\n",
    "# to combine both text and variable in print method, use (+) character\n",
    "# + character can be use to add variables to other variables\n",
    "# for numbers + character works as a mathematical operator\n",
    "# if we try to combine string and number python will gives us error\n",
    "x=\"Python\"\n",
    "y=\" is good\"\n",
    "print(x+y)\n"
   ]
  },
  {
   "cell_type": "code",
   "execution_count": 15,
   "metadata": {},
   "outputs": [
    {
     "name": "stdout",
     "output_type": "stream",
     "text": [
      "Python is fantastic\n"
     ]
    }
   ],
   "source": [
    "\"\"\" Python global variable:\n",
    "        When variables are created outside of the function, its called global variable. It can use everywhere.\n",
    "        If you create a variable with the same name inside a function, this variable will be local, and can only be used inside the function.\n",
    "        The global variable with the same name will remain as it was, global and with the original value. \n",
    "        \"\"\"\n",
    "\n",
    "# to create a global variable inside of the function we can use global keyword\n",
    "# global variable can changed with global variable\n",
    "\n",
    "x = \"awesome\"\n",
    "\n",
    "def myfunc():\n",
    "  global x\n",
    "  x = \"fantastic\"\n",
    "\n",
    "myfunc()\n",
    "\n",
    "print(\"Python is \" + x)"
   ]
  },
  {
   "cell_type": "code",
   "execution_count": 16,
   "metadata": {},
   "outputs": [
    {
     "name": "stdout",
     "output_type": "stream",
     "text": [
      "<class 'bool'>\n"
     ]
    }
   ],
   "source": [
    "\"\"\" Python datatypes:\n",
    "        Build in data types: \n",
    "        Text Type: str\n",
    "        Numeric Types: int, float, complex\n",
    "        Sequence Types: list, tuple, range\n",
    "        Mapping Type: dict\n",
    "        Set Types: set, frozenset\n",
    "        Boolean Type: bool\n",
    "        Binary Types: bytes, bytearray, memoryview \n",
    "         \"\"\"\n",
    "x=True\n",
    "print(type(x))"
   ]
  },
  {
   "cell_type": "code",
   "execution_count": 17,
   "metadata": {},
   "outputs": [
    {
     "name": "stdout",
     "output_type": "stream",
     "text": [
      "<class 'complex'>\n",
      "<class 'complex'>\n",
      "<class 'complex'>\n",
      "7\n",
      "1.0\n",
      "2\n",
      "(1+0j)\n",
      "<class 'float'>\n",
      "<class 'int'>\n",
      "<class 'complex'>\n"
     ]
    }
   ],
   "source": [
    "\"\"\" Python number: \n",
    "        There are three types of numbers supported by python. int, float, complex. \n",
    "         Random number: Python does not have a random function. But, python has a build in module random that can be use to make\n",
    "         a random number.\"\"\"\n",
    "x = 3+5j\n",
    "y = 5j\n",
    "z = -5j\n",
    "\n",
    "print(type(x))\n",
    "print(type(y))\n",
    "print(type(z))\n",
    "\n",
    "import random\n",
    "\n",
    "print(random.randrange(1, 10))\n",
    "\n",
    "# python type change\n",
    "x = 1    # int\n",
    "y = 2.8  # float\n",
    "z = 1j   # complex\n",
    "\n",
    "#convert from int to float:\n",
    "a = float(x)\n",
    "\n",
    "#convert from float to int:\n",
    "b = int(y)\n",
    "\n",
    "#convert from int to complex:\n",
    "c = complex(x)\n",
    "\n",
    "print(a)\n",
    "print(b)\n",
    "print(c)\n",
    "\n",
    "print(type(a))\n",
    "print(type(b))\n",
    "print(type(c))"
   ]
  },
  {
   "cell_type": "code",
   "execution_count": 2,
   "metadata": {},
   "outputs": [
    {
     "name": "stdout",
     "output_type": "stream",
     "text": [
      "l\n",
      "o\n",
      "o\n",
      "p\n",
      "i\n",
      "n\n",
      "g\n",
      "14\n",
      "True\n",
      "Yes, it is prsent!\n",
      "True\n"
     ]
    }
   ],
   "source": [
    "\"\"\" Python string:\n",
    "         \"\"\"\n",
    "\n",
    "# looping through string\n",
    "for x in \"looping\":\n",
    "    print(x)\n",
    "\n",
    "# string length len() method\n",
    "a = \"String Leangth\"\n",
    "print(len(a))\n",
    "\n",
    "# to check something in the string we can use in keyword\n",
    "b=\"Some thing in string!\"\n",
    "print(\"thing\" in b)\n",
    "# in keyword with if condition\n",
    "if \"thing\" in b:\n",
    "    print(\"Yes, it is prsent!\")\n",
    "# if a certain phrase not present in the string we can use not in keyword\n",
    "print(\"not\" not in b)\n"
   ]
  },
  {
   "cell_type": "code",
   "execution_count": 3,
   "metadata": {},
   "outputs": [
    {
     "name": "stdout",
     "output_type": "stream",
     "text": [
      "llo\n",
      "Hello\n",
      "llo, World!\n",
      "orl\n"
     ]
    }
   ],
   "source": [
    "\"\"\" String Slicing: It specify the start index and the end index, separated by a colon, to return a part of the string.\"\"\"\n",
    "# Get the characters from position 2 to position 5 (not included):\n",
    "b = \"Hello, World!\"\n",
    "print(b[2:5])\n",
    "# Slice From the Start\n",
    "# By leaving out the start index, we can the range will start at the first character:\n",
    "b = \"Hello, World!\"\n",
    "print(b[:5])\n",
    "# Slice To the End\n",
    "# By leaving out the end index, the range will go to the end:\n",
    "b = \"Hello, World!\"\n",
    "print(b[2:])\n",
    "# Negative Indexing\n",
    "# We can Use negative indexes to start the slice from the end of the string:\\\n",
    "b = \"Hello, World!\"\n",
    "print(b[-5:-2])"
   ]
  },
  {
   "cell_type": "code",
   "execution_count": 4,
   "metadata": {},
   "outputs": [
    {
     "name": "stdout",
     "output_type": "stream",
     "text": [
      "HELLO, WORLD!\n",
      "hello, world!\n",
      "Hello, World!\n",
      "Jello, World!\n",
      "['Hello', ' World!']\n"
     ]
    }
   ],
   "source": [
    "\"\"\" Modify String: \"\"\"\n",
    "# Upper case: using upper() method we can make string upper case\n",
    "a = \"Hello, World!\"\n",
    "print(a.upper())\n",
    "# Lower case: using lower() method we can make string lower case\n",
    "a = \"Hello, World!\"\n",
    "print(a.lower())\n",
    "# Remove Whitespace: By using strip() method we can remove the white space between two string in the beginning\n",
    "a = \" Hello, World! \"\n",
    "print(a.strip()) # returns \"Hello, World!\"\n",
    "# Replace String: By using replace() method we can replace any string with new one\n",
    "a = \"Hello, World!\"\n",
    "print(a.replace(\"H\", \"J\"))\n",
    "# Split String: The split() method returns a list where the text between the specified separator becomes the list items.\n",
    "# The split() method splits the string into substrings if it finds instances of the separator:\n",
    "a = \"Hello, World!\"\n",
    "print(a.split(\",\")) # returns ['Hello', ' World!']\n"
   ]
  },
  {
   "cell_type": "code",
   "execution_count": 5,
   "metadata": {},
   "outputs": [
    {
     "name": "stdout",
     "output_type": "stream",
     "text": [
      "HelloWorld\n"
     ]
    }
   ],
   "source": [
    "\"\"\" String Concatenation: \"\"\"\n",
    "# We can combine two string by using + operator\n",
    "a = \"Hello\"\n",
    "b = \"World\"\n",
    "c = a + b\n",
    "print(c)"
   ]
  },
  {
   "cell_type": "code",
   "execution_count": 6,
   "metadata": {},
   "outputs": [
    {
     "name": "stdout",
     "output_type": "stream",
     "text": [
      "My name is John, and I am 36\n",
      "I want 3 pieces of item 567 for 49.95 dollars.\n",
      "I want to pay 49.95 dollars for 3 pieces of item 567.\n"
     ]
    }
   ],
   "source": [
    "\"\"\" String Format: The format() method takes unlimited number of arguments, and are placed into the respective placeholders\n",
    "         \"\"\"\n",
    "# we can not combine number and string with + operator\n",
    "# we can combine number and string by using format() method\n",
    "# The format() method takes the passed arguments, formats them, and places them in the string where the placeholders {} are\n",
    "age = 36\n",
    "txt = \"My name is John, and I am {}\"\n",
    "print(txt.format(age))\n",
    "# formate() method\n",
    "quantity = 3\n",
    "itemno = 567\n",
    "price = 49.95\n",
    "myorder = \"I want {} pieces of item {} for {} dollars.\"\n",
    "print(myorder.format(quantity, itemno, price))\n",
    "# We can use index numbers {0} to be sure the arguments are placed in the correct placeholders:\n",
    "quantity = 3\n",
    "itemno = 567\n",
    "price = 49.95\n",
    "myorder = \"I want to pay {2} dollars for {0} pieces of item {1}.\"\n",
    "print(myorder.format(quantity, itemno, price))\n"
   ]
  },
  {
   "cell_type": "code",
   "execution_count": 9,
   "metadata": {},
   "outputs": [
    {
     "name": "stdout",
     "output_type": "stream",
     "text": [
      "We are the so-called \"Vikings\" from the north.\n"
     ]
    }
   ],
   "source": [
    "\"\"\" String Escape Character: To insert characters that are illegal in a string, use an escape character.\n",
    "        An escape character is a backslash \\ followed by the character you want to insert.\n",
    "        An example of an illegal character is a double quote inside a string that is surrounded by double quotes. \"\"\"\n",
    "             # \\' ->Single Quote\n",
    "             #  \\\\ ->Backslash\n",
    "             #   \\n ->New Line\n",
    "             #    \\r ->Carriage Return\n",
    "             #     \\t ->Tab\n",
    "             #      \\b ->Backspace\n",
    "             #       \\f ->Form Feed\n",
    "             #        \\ooo ->Octal value\n",
    "             #         \\xhh ->Hex value\n",
    "                      \n",
    "# escape character \\\"\\\"\n",
    "txt = \"We are the so-called \\\"Vikings\\\" from the north.\"\n",
    "print(txt)"
   ]
  },
  {
   "cell_type": "code",
   "execution_count": 10,
   "metadata": {},
   "outputs": [
    {
     "name": "stdout",
     "output_type": "stream",
     "text": [
      "All string method link: https://www.w3schools.com/python/python_strings_methods.asp\n"
     ]
    }
   ],
   "source": [
    "a=\"All string method link: \"\n",
    "print(a+\"https://www.w3schools.com/python/python_strings_methods.asp\")"
   ]
  },
  {
   "cell_type": "code",
   "execution_count": 12,
   "metadata": {},
   "outputs": [
    {
     "name": "stdout",
     "output_type": "stream",
     "text": [
      "True\n",
      "True\n",
      "False\n",
      "True\n",
      "YES!\n",
      "True\n",
      "Python all operator link: https://www.w3schools.com/python/python_operators.asp\n"
     ]
    }
   ],
   "source": [
    "\"\"\" Python Booleans and Operator: \n",
    "        Booleans represent one of two values: True or False. there are not many values that evaluate to False, except \n",
    "        empty values, such as (), [], {}, \"\", the number 0, and the value None. And of course the value False evaluates to False. \n",
    "         \"\"\"\n",
    "# The bool() function allows you to evaluate any value, and give you True or False in return\n",
    "print(bool(\"Hello\"))\n",
    "print(bool(15))\n",
    "# One more value, or object in this case, evaluates to False,\n",
    "# and that is if you have an object that is made from a class with a __len__ function that returns 0 or False\n",
    "class myclass():\n",
    "  def __len__(self):\n",
    "    return 0\n",
    "\n",
    "myobj = myclass()\n",
    "print(bool(myobj))\n",
    "\n",
    "# Function can return boolean\n",
    "def myFunction() :\n",
    "  return True\n",
    "\n",
    "print(myFunction())\n",
    "\n",
    "# boolean function\n",
    "def myFunction() :\n",
    "  return True\n",
    "\n",
    "if myFunction():\n",
    "  print(\"YES!\")\n",
    "else:\n",
    "  print(\"NO!\")\n",
    "\n",
    "# isinstance() method returns boolean value\n",
    "x = 200\n",
    "print(isinstance(x, int))\n",
    "\n",
    "# operator\n",
    "a = \"Python all operator link: \"\n",
    "print(a+\"https://www.w3schools.com/python/python_operators.asp\")\n"
   ]
  },
  {
   "cell_type": "code",
   "execution_count": 14,
   "metadata": {},
   "outputs": [
    {
     "name": "stdout",
     "output_type": "stream",
     "text": [
      "[10, 20, 30]\n",
      "['apple', 'banana', 'cherry', 'apple', 'cherry']\n",
      "3\n",
      "<class 'list'>\n",
      "['apple', 'banana', 'cherry']\n",
      "Python Collections (Arrays), \n",
      "\n",
      "There are four collection data types in the Python programming language:\n",
      "\n",
      "List is a collection which is ordered and changeable. Allows duplicate members.\n",
      "\n",
      "Tuple is a collection which is ordered and unchangeable. Allows duplicate members.\n",
      "\n",
      "Set is a collection which is unordered and unindexed. No duplicate members.\n",
      "\n",
      "Dictionary is a collection which is ordered* and changeable. No duplicate members.\n"
     ]
    }
   ],
   "source": [
    "\"\"\" Python List: Lists are used to store multiple items in a single variable. \n",
    "        List items are ordered, changeable, and allow duplicate values.\n",
    "        List items are indexed, the first item has index [0], the second item has index [1] etc.\n",
    "         \"\"\"\n",
    "# Create a list\n",
    "myList = [10,20,30]\n",
    "print(myList)\n",
    "# list allow duplicate value\n",
    "thislist = [\"apple\", \"banana\", \"cherry\", \"apple\", \"cherry\"]\n",
    "print(thislist)\n",
    "# to determine how many item list has we can use len() method\n",
    "print(len(myList))\n",
    "# list items can be any data types\n",
    "list1 = [\"apple\", \"banana\", \"cherry\"]\n",
    "list2 = [1, 5, 7, 9, 3]\n",
    "list3 = [True, False, False]\n",
    "# a list can store different data types\n",
    "list1 = [\"abc\", 34, True, 40, \"male\"]\n",
    "# type() can give us data type of the list\n",
    "mylist = [\"apple\", \"banana\", \"cherry\"]\n",
    "print(type(mylist))\n",
    "# we can also create a list by using list() constructor\n",
    "thislist = list((\"apple\", \"banana\", \"cherry\")) # note the double round-brackets\n",
    "print(thislist)\n",
    "print(\"\"\"Python Collections (Arrays), \\n\n",
    "There are four collection data types in the Python programming language:\\n\n",
    "List is a collection which is ordered and changeable. Allows duplicate members.\\n\n",
    "Tuple is a collection which is ordered and unchangeable. Allows duplicate members.\\n\n",
    "Set is a collection which is unordered and unindexed. No duplicate members.\\n\n",
    "Dictionary is a collection which is ordered* and changeable. No duplicate members.\"\"\")"
   ]
  },
  {
   "cell_type": "code",
   "execution_count": null,
   "metadata": {},
   "outputs": [],
   "source": []
  }
 ],
 "metadata": {
  "kernelspec": {
   "display_name": "Python 3",
   "language": "python",
   "name": "python3"
  },
  "language_info": {
   "codemirror_mode": {
    "name": "ipython",
    "version": 3
   },
   "file_extension": ".py",
   "mimetype": "text/x-python",
   "name": "python",
   "nbconvert_exporter": "python",
   "pygments_lexer": "ipython3",
   "version": "3.8.5"
  }
 },
 "nbformat": 4,
 "nbformat_minor": 4
}
