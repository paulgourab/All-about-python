{
 "cells": [
  {
   "cell_type": "code",
   "execution_count": 1,
   "metadata": {},
   "outputs": [
    {
     "data": {
      "text/plain": [
       "' python basic from w3schools.com, \\n    created by paulgourab399. '"
      ]
     },
     "execution_count": 1,
     "metadata": {},
     "output_type": "execute_result"
    }
   ],
   "source": [
    "\"\"\" python basic from w3schools.com, \n",
    "    created by paulgourab399. \"\"\""
   ]
  },
  {
   "cell_type": "code",
   "execution_count": 2,
   "metadata": {},
   "outputs": [
    {
     "name": "stdout",
     "output_type": "stream",
     "text": [
      "Hello, World!\n"
     ]
    }
   ],
   "source": [
    "\"\"\" python used for, \n",
    "    web development (server-side),\n",
    "    software development,\n",
    "    mathematics,\n",
    "    system scripting. \n",
    "    Python can do many things, like-\n",
    "        It can be used on a server to create web applications.\n",
    "        It can be used alongside software to create workflows.\n",
    "        It can connect to database systems. It can also read and modify files.\n",
    "        It can be used to handle big data and perform complex mathematics.\n",
    "        It can be used for rapid prototyping, or for production-ready software development.\n",
    "     \"\"\"\n",
    "# first python program\n",
    "\n",
    "print(\"Hello, World!\")"
   ]
  },
  {
   "cell_type": "code",
   "execution_count": 3,
   "metadata": {},
   "outputs": [
    {
     "name": "stdout",
     "output_type": "stream",
     "text": [
      "Four is greater than two!\n",
      "Good luck!\n"
     ]
    }
   ],
   "source": [
    "\"\"\" Identation: Python use identation to indicate a block of code. If we miss the identation, python will give the error. \n",
    "    The number of space is up to us as but it has to be at least one. We have to use same number of code of same block, \n",
    "    otherwise python will give us a error.\"\"\"\n",
    "# python identation\n",
    "\n",
    "if 4>2:\n",
    "    print(\"Four is greater than two!\")\n",
    "    print(\"Good luck!\")"
   ]
  },
  {
   "cell_type": "code",
   "execution_count": 7,
   "metadata": {},
   "outputs": [
    {
     "name": "stdout",
     "output_type": "stream",
     "text": [
      "10\n"
     ]
    }
   ],
   "source": [
    "\"\"\" Python variables:\n",
    "        Unlike other language, in python a variable is create when we a assign value to it. Python has no command for declaring\n",
    "        variable. \n",
    "    Python comment: Python comment start with a hashtag and a tripple quotes.\"\"\"\n",
    "# This is comment\n",
    "# python variable\n",
    "var=10\n",
    "print(var)"
   ]
  },
  {
   "cell_type": "code",
   "execution_count": 8,
   "metadata": {},
   "outputs": [
    {
     "name": "stdout",
     "output_type": "stream",
     "text": [
      "I am bad at programming.\n",
      "I am learning Python.\n",
      "21\n",
      "<class 'str'>\n"
     ]
    }
   ],
   "source": [
    "\"\"\" Python variable:\n",
    "        variable donot need to be particuler type. Type can be set after declaring the variable.\n",
    "        Casting:\n",
    "            Casting can be done by setting up data type to the variable. \"\"\"\n",
    "        # type() method can get the data type of the variable\n",
    "        # string variable can be declar using either double or single quote\n",
    "        # python variable are case-sensitive\n",
    "var=\"I am bad at programming.\"\n",
    "Var=\"I am learning Python.\"\n",
    "num=int(21)\n",
    "print(var)\n",
    "print(Var)\n",
    "print(num)\n",
    "print(type(var))"
   ]
  },
  {
   "cell_type": "code",
   "execution_count": 12,
   "metadata": {},
   "outputs": [
    {
     "name": "stdout",
     "output_type": "stream",
     "text": [
      "1\n",
      "2\n",
      "3\n",
      "10\n",
      "10\n",
      "10\n",
      "10\n",
      "20\n",
      "30\n"
     ]
    }
   ],
   "source": [
    "\"\"\" Python variable:\n",
    "        python variable name syntax: \n",
    "            A variable can have a short name (like x and y) or a more descriptive name (age, carname, total_volume). Rules for Python variables:\n",
    "            A variable name must start with a letter or the underscore character\n",
    "            A variable name cannot start with a number\n",
    "            A variable name can only contain alpha-numeric characters and underscores (A-z, 0-9, and _ )\n",
    "            Variable names are case-sensitive (age, Age and AGE are three different variables)\n",
    "            Multiword variable name: \n",
    "                Variable name done with one word can be difficult to understand. So, we can use multiple word to declaring a\n",
    "                variable. There are many techiques. Like, Pascal case, Camel case, Snake case. \"\"\"\n",
    "# python legal variable name\n",
    "myvar = \"John\"\n",
    "my_var = \"John\"\n",
    "_my_var = \"John\"\n",
    "myVar = \"John\"\n",
    "MYVAR = \"John\"\n",
    "myvar2 = \"John\"\n",
    "\n",
    "# Camel case: each word except first start with capital letter\n",
    "myVariableName=\"Camel case\"\n",
    "# Pascal case: each word start with a capital letter\n",
    "MyNameVariable=\"Pascal case\"\n",
    "# Snake case: each word seperated by underscore charecter\n",
    "my_variable_name=\"Snake case\"\n",
    "\n",
    "# assign multiple values\n",
    "x, y, z = 1,2,3\n",
    "print(x)\n",
    "print(y)\n",
    "print(z)\n",
    "\n",
    "# one values to multiple variable\n",
    "x=y=z=10\n",
    "print(x)\n",
    "print(y)\n",
    "print(z)\n",
    "\n",
    "# unpack a collection: if If we have a collection of values in a list, tuple etc. \n",
    "# Python allows us extract the values into variables. \n",
    "# This is called unpacking.\n",
    "number = [10,20,30]\n",
    "x,y,z = number\n",
    "print(x)\n",
    "print(y)\n",
    "print(z)\n"
   ]
  },
  {
   "cell_type": "code",
   "execution_count": 14,
   "metadata": {},
   "outputs": [
    {
     "name": "stdout",
     "output_type": "stream",
     "text": [
      "Python is good\n"
     ]
    }
   ],
   "source": [
    "\"\"\" Output variables:\n",
    "        python print function use to output the variables. \"\"\"\n",
    "# to combine both text and variable in print method, use (+) character\n",
    "# + character can be use to add variables to other variables\n",
    "# for numbers + character works as a mathematical operator\n",
    "# if we try to combine string and number python will gives us error\n",
    "x=\"Python\"\n",
    "y=\" is good\"\n",
    "print(x+y)\n"
   ]
  },
  {
   "cell_type": "code",
   "execution_count": 15,
   "metadata": {},
   "outputs": [
    {
     "name": "stdout",
     "output_type": "stream",
     "text": [
      "Python is fantastic\n"
     ]
    }
   ],
   "source": [
    "\"\"\" Python global variable:\n",
    "        When variables are created outside of the function, its called global variable. It can use everywhere.\n",
    "        If you create a variable with the same name inside a function, this variable will be local, and can only be used inside the function.\n",
    "        The global variable with the same name will remain as it was, global and with the original value. \n",
    "        \"\"\"\n",
    "\n",
    "# to create a global variable inside of the function we can use global keyword\n",
    "# global variable can changed with global variable\n",
    "\n",
    "x = \"awesome\"\n",
    "\n",
    "def myfunc():\n",
    "  global x\n",
    "  x = \"fantastic\"\n",
    "\n",
    "myfunc()\n",
    "\n",
    "print(\"Python is \" + x)"
   ]
  },
  {
   "cell_type": "code",
   "execution_count": 16,
   "metadata": {},
   "outputs": [
    {
     "name": "stdout",
     "output_type": "stream",
     "text": [
      "<class 'bool'>\n"
     ]
    }
   ],
   "source": [
    "\"\"\" Python datatypes:\n",
    "        Build in data types: \n",
    "        Text Type: str\n",
    "        Numeric Types: int, float, complex\n",
    "        Sequence Types: list, tuple, range\n",
    "        Mapping Type: dict\n",
    "        Set Types: set, frozenset\n",
    "        Boolean Type: bool\n",
    "        Binary Types: bytes, bytearray, memoryview \n",
    "         \"\"\"\n",
    "x=True\n",
    "print(type(x))"
   ]
  },
  {
   "cell_type": "code",
   "execution_count": 17,
   "metadata": {},
   "outputs": [
    {
     "name": "stdout",
     "output_type": "stream",
     "text": [
      "<class 'complex'>\n",
      "<class 'complex'>\n",
      "<class 'complex'>\n",
      "7\n",
      "1.0\n",
      "2\n",
      "(1+0j)\n",
      "<class 'float'>\n",
      "<class 'int'>\n",
      "<class 'complex'>\n"
     ]
    }
   ],
   "source": [
    "\"\"\" Python number: \n",
    "        There are three types of numbers supported by python. int, float, complex. \n",
    "         Random number: Python does not have a random function. But, python has a build in module random that can be use to make\n",
    "         a random number.\"\"\"\n",
    "x = 3+5j\n",
    "y = 5j\n",
    "z = -5j\n",
    "\n",
    "print(type(x))\n",
    "print(type(y))\n",
    "print(type(z))\n",
    "\n",
    "import random\n",
    "\n",
    "print(random.randrange(1, 10))\n",
    "\n",
    "# python type change\n",
    "x = 1    # int\n",
    "y = 2.8  # float\n",
    "z = 1j   # complex\n",
    "\n",
    "#convert from int to float:\n",
    "a = float(x)\n",
    "\n",
    "#convert from float to int:\n",
    "b = int(y)\n",
    "\n",
    "#convert from int to complex:\n",
    "c = complex(x)\n",
    "\n",
    "print(a)\n",
    "print(b)\n",
    "print(c)\n",
    "\n",
    "print(type(a))\n",
    "print(type(b))\n",
    "print(type(c))"
   ]
  },
  {
   "cell_type": "code",
   "execution_count": null,
   "metadata": {},
   "outputs": [],
   "source": []
  }
 ],
 "metadata": {
  "kernelspec": {
   "display_name": "Python 3",
   "language": "python",
   "name": "python3"
  },
  "language_info": {
   "codemirror_mode": {
    "name": "ipython",
    "version": 3
   },
   "file_extension": ".py",
   "mimetype": "text/x-python",
   "name": "python",
   "nbconvert_exporter": "python",
   "pygments_lexer": "ipython3",
   "version": "3.8.5"
  }
 },
 "nbformat": 4,
 "nbformat_minor": 4
}
